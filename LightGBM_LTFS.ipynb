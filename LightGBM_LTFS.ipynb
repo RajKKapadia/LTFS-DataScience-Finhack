{
  "nbformat": 4,
  "nbformat_minor": 0,
  "metadata": {
    "colab": {
      "name": "LightGBM - LTFS.ipynb",
      "version": "0.3.2",
      "provenance": []
    },
    "kernelspec": {
      "name": "python3",
      "display_name": "Python 3"
    },
    "accelerator": "GPU"
  },
  "cells": [
    {
      "metadata": {
        "id": "EYDFYNJ517b1",
        "colab_type": "code",
        "colab": {}
      },
      "cell_type": "code",
      "source": [
        "from google.colab import drive\n",
        "drive.mount('/gdrive')"
      ],
      "execution_count": 0,
      "outputs": []
    },
    {
      "metadata": {
        "id": "LiuaGvxv2FGt",
        "colab_type": "code",
        "colab": {}
      },
      "cell_type": "code",
      "source": [
        "BASE_PATH = \"/gdrive/My Drive/Colab Notebooks/LTFS/\""
      ],
      "execution_count": 0,
      "outputs": []
    },
    {
      "metadata": {
        "id": "Hi2UFuQw2SxL",
        "colab_type": "code",
        "colab": {}
      },
      "cell_type": "code",
      "source": [
        "import zipfile\n",
        "\n",
        "print(\"Uncompressing the zip file...\")\n",
        "zip_ref = zipfile.ZipFile(BASE_PATH+\"LTFS.zip\", \"r\")\n",
        "zip_ref.extractall(\"LTFS/\")\n",
        "zip_ref.close()\n",
        "print(\"Finished...\")"
      ],
      "execution_count": 0,
      "outputs": []
    },
    {
      "metadata": {
        "id": "ByQHuTTu2ZGX",
        "colab_type": "code",
        "colab": {}
      },
      "cell_type": "code",
      "source": [
        "DATA_PATH = \"LTFS/LTFS/\""
      ],
      "execution_count": 0,
      "outputs": []
    },
    {
      "metadata": {
        "id": "I6tY77Ib2kAH",
        "colab_type": "code",
        "colab": {}
      },
      "cell_type": "code",
      "source": [
        "import pandas as pd\n",
        "import numpy as np"
      ],
      "execution_count": 0,
      "outputs": []
    },
    {
      "metadata": {
        "id": "jGqoIKpC2qvq",
        "colab_type": "code",
        "colab": {}
      },
      "cell_type": "code",
      "source": [
        "train = pd.read_csv(DATA_PATH+\"train.csv\")\n",
        "test = pd.read_csv(DATA_PATH+'test.csv')\n",
        "sample_submission = pd.read_csv(DATA_PATH+\"sample_submission.csv\")"
      ],
      "execution_count": 0,
      "outputs": []
    },
    {
      "metadata": {
        "id": "THuIvr6JJuaM",
        "colab_type": "code",
        "outputId": "54a94681-fede-442a-a6df-37eac0e0a9b5",
        "colab": {
          "base_uri": "https://localhost:8080/",
          "height": 204
        }
      },
      "cell_type": "code",
      "source": [
        "train.iloc[0:5, 0:10]"
      ],
      "execution_count": 4,
      "outputs": [
        {
          "output_type": "execute_result",
          "data": {
            "text/html": [
              "<div>\n",
              "<style scoped>\n",
              "    .dataframe tbody tr th:only-of-type {\n",
              "        vertical-align: middle;\n",
              "    }\n",
              "\n",
              "    .dataframe tbody tr th {\n",
              "        vertical-align: top;\n",
              "    }\n",
              "\n",
              "    .dataframe thead th {\n",
              "        text-align: right;\n",
              "    }\n",
              "</style>\n",
              "<table border=\"1\" class=\"dataframe\">\n",
              "  <thead>\n",
              "    <tr style=\"text-align: right;\">\n",
              "      <th></th>\n",
              "      <th>UniqueID</th>\n",
              "      <th>disbursed_amount</th>\n",
              "      <th>asset_cost</th>\n",
              "      <th>ltv</th>\n",
              "      <th>branch_id</th>\n",
              "      <th>supplier_id</th>\n",
              "      <th>manufacturer_id</th>\n",
              "      <th>Current_pincode_ID</th>\n",
              "      <th>Date.of.Birth</th>\n",
              "      <th>Employment.Type</th>\n",
              "    </tr>\n",
              "  </thead>\n",
              "  <tbody>\n",
              "    <tr>\n",
              "      <th>0</th>\n",
              "      <td>420825</td>\n",
              "      <td>50578</td>\n",
              "      <td>58400</td>\n",
              "      <td>89.55</td>\n",
              "      <td>67</td>\n",
              "      <td>22807</td>\n",
              "      <td>45</td>\n",
              "      <td>1441</td>\n",
              "      <td>01-01-84</td>\n",
              "      <td>Salaried</td>\n",
              "    </tr>\n",
              "    <tr>\n",
              "      <th>1</th>\n",
              "      <td>537409</td>\n",
              "      <td>47145</td>\n",
              "      <td>65550</td>\n",
              "      <td>73.23</td>\n",
              "      <td>67</td>\n",
              "      <td>22807</td>\n",
              "      <td>45</td>\n",
              "      <td>1502</td>\n",
              "      <td>31-07-85</td>\n",
              "      <td>Self employed</td>\n",
              "    </tr>\n",
              "    <tr>\n",
              "      <th>2</th>\n",
              "      <td>417566</td>\n",
              "      <td>53278</td>\n",
              "      <td>61360</td>\n",
              "      <td>89.63</td>\n",
              "      <td>67</td>\n",
              "      <td>22807</td>\n",
              "      <td>45</td>\n",
              "      <td>1497</td>\n",
              "      <td>24-08-85</td>\n",
              "      <td>Self employed</td>\n",
              "    </tr>\n",
              "    <tr>\n",
              "      <th>3</th>\n",
              "      <td>624493</td>\n",
              "      <td>57513</td>\n",
              "      <td>66113</td>\n",
              "      <td>88.48</td>\n",
              "      <td>67</td>\n",
              "      <td>22807</td>\n",
              "      <td>45</td>\n",
              "      <td>1501</td>\n",
              "      <td>30-12-93</td>\n",
              "      <td>Self employed</td>\n",
              "    </tr>\n",
              "    <tr>\n",
              "      <th>4</th>\n",
              "      <td>539055</td>\n",
              "      <td>52378</td>\n",
              "      <td>60300</td>\n",
              "      <td>88.39</td>\n",
              "      <td>67</td>\n",
              "      <td>22807</td>\n",
              "      <td>45</td>\n",
              "      <td>1495</td>\n",
              "      <td>09-12-77</td>\n",
              "      <td>Self employed</td>\n",
              "    </tr>\n",
              "  </tbody>\n",
              "</table>\n",
              "</div>"
            ],
            "text/plain": [
              "   UniqueID  disbursed_amount  asset_cost    ltv  branch_id  supplier_id  \\\n",
              "0    420825             50578       58400  89.55         67        22807   \n",
              "1    537409             47145       65550  73.23         67        22807   \n",
              "2    417566             53278       61360  89.63         67        22807   \n",
              "3    624493             57513       66113  88.48         67        22807   \n",
              "4    539055             52378       60300  88.39         67        22807   \n",
              "\n",
              "   manufacturer_id  Current_pincode_ID Date.of.Birth Employment.Type  \n",
              "0               45                1441      01-01-84        Salaried  \n",
              "1               45                1502      31-07-85   Self employed  \n",
              "2               45                1497      24-08-85   Self employed  \n",
              "3               45                1501      30-12-93   Self employed  \n",
              "4               45                1495      09-12-77   Self employed  "
            ]
          },
          "metadata": {
            "tags": []
          },
          "execution_count": 4
        }
      ]
    },
    {
      "metadata": {
        "id": "U1fOTUfTcbJY",
        "colab_type": "code",
        "colab": {}
      },
      "cell_type": "code",
      "source": [
        "def impute_dummy_ET(row):\n",
        "  \n",
        "  if row == \"Salaried\":\n",
        "    return 0\n",
        "  elif row == \"Self employed\":\n",
        "    return 1\n",
        "  else:\n",
        "    numb = np.random.rand()\n",
        "    if numb > 0.5:\n",
        "      return 0\n",
        "    else:\n",
        "      return 1\n",
        "    \n",
        "def calculate_age(row):\n",
        "  \n",
        "  tail = row[-2:]\n",
        "  head = '19'\n",
        "  \n",
        "  years = int(head+tail)\n",
        "  \n",
        "  age = 2019-years\n",
        "  \n",
        "  return age\n",
        "\n",
        "def convert_to_days(row):\n",
        "  \n",
        "  row_stripped = row.split(\" \")\n",
        "  one = row_stripped[0]\n",
        "  two = row_stripped[1]\n",
        "  \n",
        "  if one[1] == 'y':\n",
        "    years = int(one[0])\n",
        "  else:\n",
        "    years = int(one[0:2])\n",
        "    \n",
        "  if two[1] == 'm':\n",
        "    months = int(two[0])\n",
        "  else:\n",
        "    months = int(two[0:2])\n",
        "  \n",
        "  days = (years*365)+(months*30)\n",
        "  \n",
        "  return days"
      ],
      "execution_count": 0,
      "outputs": []
    },
    {
      "metadata": {
        "id": "ojnSvPU022j_",
        "colab_type": "code",
        "colab": {}
      },
      "cell_type": "code",
      "source": [
        "train['AAA_Days'] = train['AVERAGE.ACCT.AGE'].apply(convert_to_days)\n",
        "train['CHL_Days'] = train['CREDIT.HISTORY.LENGTH'].apply(convert_to_days)\n",
        "train['DIS_AMT-AST_COST'] = train['disbursed_amount']-train['asset_cost']\n",
        "train['AGE'] = train['Date.of.Birth'].apply(calculate_age)\n",
        "train['ET'] = train['Employment.Type'].apply(impute_dummy_ET)"
      ],
      "execution_count": 0,
      "outputs": []
    },
    {
      "metadata": {
        "id": "S5WXy2tK3zuu",
        "colab_type": "code",
        "outputId": "0328154b-c16b-4ab8-a256-b2c3df071e5b",
        "colab": {
          "base_uri": "https://localhost:8080/",
          "height": 272
        }
      },
      "cell_type": "code",
      "source": [
        "train.columns"
      ],
      "execution_count": 9,
      "outputs": [
        {
          "output_type": "execute_result",
          "data": {
            "text/plain": [
              "Index(['UniqueID', 'disbursed_amount', 'asset_cost', 'ltv', 'branch_id',\n",
              "       'supplier_id', 'manufacturer_id', 'Current_pincode_ID', 'Date.of.Birth',\n",
              "       'Employment.Type', 'DisbursalDate', 'State_ID', 'Employee_code_ID',\n",
              "       'MobileNo_Avl_Flag', 'Aadhar_flag', 'PAN_flag', 'VoterID_flag',\n",
              "       'Driving_flag', 'Passport_flag', 'PERFORM_CNS.SCORE',\n",
              "       'PERFORM_CNS.SCORE.DESCRIPTION', 'PRI.NO.OF.ACCTS', 'PRI.ACTIVE.ACCTS',\n",
              "       'PRI.OVERDUE.ACCTS', 'PRI.CURRENT.BALANCE', 'PRI.SANCTIONED.AMOUNT',\n",
              "       'PRI.DISBURSED.AMOUNT', 'SEC.NO.OF.ACCTS', 'SEC.ACTIVE.ACCTS',\n",
              "       'SEC.OVERDUE.ACCTS', 'SEC.CURRENT.BALANCE', 'SEC.SANCTIONED.AMOUNT',\n",
              "       'SEC.DISBURSED.AMOUNT', 'PRIMARY.INSTAL.AMT', 'SEC.INSTAL.AMT',\n",
              "       'NEW.ACCTS.IN.LAST.SIX.MONTHS', 'DELINQUENT.ACCTS.IN.LAST.SIX.MONTHS',\n",
              "       'AVERAGE.ACCT.AGE', 'CREDIT.HISTORY.LENGTH', 'NO.OF_INQUIRIES',\n",
              "       'loan_default', 'AAA_Days', 'CHL_Days', 'DIS_AMT-AST_COST', 'AGE',\n",
              "       'ET'],\n",
              "      dtype='object')"
            ]
          },
          "metadata": {
            "tags": []
          },
          "execution_count": 9
        }
      ]
    },
    {
      "metadata": {
        "id": "h-0awfHa8MI1",
        "colab_type": "code",
        "colab": {}
      },
      "cell_type": "code",
      "source": [
        "X = train.drop(['UniqueID', 'branch_id', 'supplier_id', 'manufacturer_id',\n",
        "                'Current_pincode_ID', 'Date.of.Birth', 'Employment.Type',\n",
        "                'DisbursalDate', 'State_ID', 'Employee_code_ID',\n",
        "                'PERFORM_CNS.SCORE.DESCRIPTION', 'AVERAGE.ACCT.AGE',\n",
        "                'CREDIT.HISTORY.LENGTH', 'loan_default'], axis=1).values\n",
        "y = train['loan_default'].values"
      ],
      "execution_count": 0,
      "outputs": []
    },
    {
      "metadata": {
        "id": "F4M16311gJFp",
        "colab_type": "code",
        "colab": {}
      },
      "cell_type": "code",
      "source": [
        "test['AAA_Days'] = test['AVERAGE.ACCT.AGE'].apply(convert_to_days)\n",
        "test['CHL_Days'] = test['CREDIT.HISTORY.LENGTH'].apply(convert_to_days)\n",
        "test['DIS_AMT-AST_COST'] = test['disbursed_amount']-test['asset_cost']\n",
        "test['AGE'] = test['Date.of.Birth'].apply(calculate_age)\n",
        "test['ET'] = test['Employment.Type'].apply(impute_dummy_ET)"
      ],
      "execution_count": 0,
      "outputs": []
    },
    {
      "metadata": {
        "id": "q9kYk1_XgWnr",
        "colab_type": "code",
        "colab": {}
      },
      "cell_type": "code",
      "source": [
        "X_test = test.drop(['UniqueID', 'branch_id', 'supplier_id', 'manufacturer_id',\n",
        "                'Current_pincode_ID', 'Date.of.Birth', 'Employment.Type',\n",
        "                'DisbursalDate', 'State_ID', 'Employee_code_ID',\n",
        "                'PERFORM_CNS.SCORE.DESCRIPTION', 'AVERAGE.ACCT.AGE',\n",
        "                'CREDIT.HISTORY.LENGTH'], axis=1).values"
      ],
      "execution_count": 0,
      "outputs": []
    },
    {
      "metadata": {
        "id": "Gm8rZpnjhTG1",
        "colab_type": "code",
        "colab": {}
      },
      "cell_type": "code",
      "source": [
        "from sklearn.metrics import roc_auc_score\n",
        "import lightgbm as lgbm\n",
        "from sklearn.model_selection import StratifiedKFold"
      ],
      "execution_count": 0,
      "outputs": []
    },
    {
      "metadata": {
        "colab_type": "code",
        "outputId": "89f078a8-eab6-4eec-dc59-adc59ecec407",
        "id": "hqulZ2MYZEN6",
        "colab": {
          "base_uri": "https://localhost:8080/",
          "height": 1904
        }
      },
      "cell_type": "code",
      "source": [
        "params = {'boosting_type':'gbdt',\n",
        "          'metric':'auc',\n",
        "          'objective':'binary',\n",
        "          'max_bin':115,\n",
        "          'num_leaves':7}\n",
        "\n",
        "n_splits = 10\n",
        "skf = StratifiedKFold(n_splits=n_splits, shuffle=True, random_state=2019)\n",
        "oof = np.zeros(len(train))\n",
        "predictions = np.zeros(len(test))\n",
        "\n",
        "for fold_, (trn_idx, val_idx) in enumerate(skf.split(X, y)):\n",
        "  \n",
        "    print(\"Fold Number --> {}\".format(fold_+1))\n",
        "    \n",
        "    trn_data = lgbm.Dataset(X[trn_idx], y[trn_idx])\n",
        "    val_data = lgbm.Dataset(X[val_idx], y[val_idx])\n",
        "\n",
        "    num_round = 1000\n",
        "    clf = lgbm.train(params, trn_data, num_round, valid_sets=[trn_data, val_data],\n",
        "                     verbose_eval=100)\n",
        "    oof[val_idx] = clf.predict(X[val_idx], num_iteration=clf.best_iteration)\n",
        "    \n",
        "    predictions += clf.predict(X_test, num_iteration=clf.best_iteration)/n_splits\n",
        "\n",
        "print(\"CV score: {:<8.5f}\".format(roc_auc_score(y, oof)))"
      ],
      "execution_count": 19,
      "outputs": [
        {
          "output_type": "stream",
          "text": [
            "Fold Number --> 1\n",
            "[100]\ttraining's auc: 0.64521\tvalid_1's auc: 0.636211\n",
            "[200]\ttraining's auc: 0.652045\tvalid_1's auc: 0.637538\n",
            "[300]\ttraining's auc: 0.656925\tvalid_1's auc: 0.637709\n",
            "[400]\ttraining's auc: 0.660954\tvalid_1's auc: 0.638255\n",
            "[500]\ttraining's auc: 0.664747\tvalid_1's auc: 0.638321\n",
            "[600]\ttraining's auc: 0.66842\tvalid_1's auc: 0.638164\n",
            "[700]\ttraining's auc: 0.671653\tvalid_1's auc: 0.638184\n",
            "[800]\ttraining's auc: 0.674985\tvalid_1's auc: 0.638269\n",
            "[900]\ttraining's auc: 0.677838\tvalid_1's auc: 0.638186\n",
            "[1000]\ttraining's auc: 0.680641\tvalid_1's auc: 0.638126\n",
            "Fold Number --> 2\n",
            "[100]\ttraining's auc: 0.644693\tvalid_1's auc: 0.636117\n",
            "[200]\ttraining's auc: 0.651595\tvalid_1's auc: 0.637833\n",
            "[300]\ttraining's auc: 0.656981\tvalid_1's auc: 0.638447\n",
            "[400]\ttraining's auc: 0.661173\tvalid_1's auc: 0.638328\n",
            "[500]\ttraining's auc: 0.665283\tvalid_1's auc: 0.638672\n",
            "[600]\ttraining's auc: 0.668842\tvalid_1's auc: 0.63857\n",
            "[700]\ttraining's auc: 0.672067\tvalid_1's auc: 0.638682\n",
            "[800]\ttraining's auc: 0.675187\tvalid_1's auc: 0.638338\n",
            "[900]\ttraining's auc: 0.678046\tvalid_1's auc: 0.637897\n",
            "[1000]\ttraining's auc: 0.680782\tvalid_1's auc: 0.637962\n",
            "Fold Number --> 3\n",
            "[100]\ttraining's auc: 0.643858\tvalid_1's auc: 0.644176\n",
            "[200]\ttraining's auc: 0.650604\tvalid_1's auc: 0.646279\n",
            "[300]\ttraining's auc: 0.655848\tvalid_1's auc: 0.646545\n",
            "[400]\ttraining's auc: 0.660344\tvalid_1's auc: 0.647434\n",
            "[500]\ttraining's auc: 0.664084\tvalid_1's auc: 0.647597\n",
            "[600]\ttraining's auc: 0.667775\tvalid_1's auc: 0.647602\n",
            "[700]\ttraining's auc: 0.671198\tvalid_1's auc: 0.647217\n",
            "[800]\ttraining's auc: 0.674416\tvalid_1's auc: 0.647274\n",
            "[900]\ttraining's auc: 0.677461\tvalid_1's auc: 0.646861\n",
            "[1000]\ttraining's auc: 0.680304\tvalid_1's auc: 0.646236\n",
            "Fold Number --> 4\n",
            "[100]\ttraining's auc: 0.644851\tvalid_1's auc: 0.6387\n",
            "[200]\ttraining's auc: 0.651586\tvalid_1's auc: 0.640189\n",
            "[300]\ttraining's auc: 0.656492\tvalid_1's auc: 0.641122\n",
            "[400]\ttraining's auc: 0.661067\tvalid_1's auc: 0.641656\n",
            "[500]\ttraining's auc: 0.664609\tvalid_1's auc: 0.642697\n",
            "[600]\ttraining's auc: 0.668441\tvalid_1's auc: 0.642752\n",
            "[700]\ttraining's auc: 0.671813\tvalid_1's auc: 0.642174\n",
            "[800]\ttraining's auc: 0.674968\tvalid_1's auc: 0.642073\n",
            "[900]\ttraining's auc: 0.678093\tvalid_1's auc: 0.641939\n",
            "[1000]\ttraining's auc: 0.680927\tvalid_1's auc: 0.641959\n",
            "Fold Number --> 5\n",
            "[100]\ttraining's auc: 0.644885\tvalid_1's auc: 0.636923\n",
            "[200]\ttraining's auc: 0.651544\tvalid_1's auc: 0.638949\n",
            "[300]\ttraining's auc: 0.656877\tvalid_1's auc: 0.639763\n",
            "[400]\ttraining's auc: 0.661071\tvalid_1's auc: 0.639891\n",
            "[500]\ttraining's auc: 0.665028\tvalid_1's auc: 0.639929\n",
            "[600]\ttraining's auc: 0.668379\tvalid_1's auc: 0.639926\n",
            "[700]\ttraining's auc: 0.67179\tvalid_1's auc: 0.639842\n",
            "[800]\ttraining's auc: 0.675159\tvalid_1's auc: 0.639705\n",
            "[900]\ttraining's auc: 0.677986\tvalid_1's auc: 0.639559\n",
            "[1000]\ttraining's auc: 0.680754\tvalid_1's auc: 0.639145\n",
            "Fold Number --> 6\n",
            "[100]\ttraining's auc: 0.644255\tvalid_1's auc: 0.638602\n",
            "[200]\ttraining's auc: 0.651011\tvalid_1's auc: 0.64085\n",
            "[300]\ttraining's auc: 0.655983\tvalid_1's auc: 0.641614\n",
            "[400]\ttraining's auc: 0.660284\tvalid_1's auc: 0.641854\n",
            "[500]\ttraining's auc: 0.664355\tvalid_1's auc: 0.642358\n",
            "[600]\ttraining's auc: 0.667877\tvalid_1's auc: 0.642563\n",
            "[700]\ttraining's auc: 0.671221\tvalid_1's auc: 0.642949\n",
            "[800]\ttraining's auc: 0.674343\tvalid_1's auc: 0.642892\n",
            "[900]\ttraining's auc: 0.677442\tvalid_1's auc: 0.642306\n",
            "[1000]\ttraining's auc: 0.680568\tvalid_1's auc: 0.64231\n",
            "Fold Number --> 7\n",
            "[100]\ttraining's auc: 0.645052\tvalid_1's auc: 0.633218\n",
            "[200]\ttraining's auc: 0.651765\tvalid_1's auc: 0.635475\n",
            "[300]\ttraining's auc: 0.656617\tvalid_1's auc: 0.636587\n",
            "[400]\ttraining's auc: 0.660671\tvalid_1's auc: 0.636732\n",
            "[500]\ttraining's auc: 0.66454\tvalid_1's auc: 0.637207\n",
            "[600]\ttraining's auc: 0.668085\tvalid_1's auc: 0.637562\n",
            "[700]\ttraining's auc: 0.671335\tvalid_1's auc: 0.637578\n",
            "[800]\ttraining's auc: 0.674746\tvalid_1's auc: 0.637983\n",
            "[900]\ttraining's auc: 0.677551\tvalid_1's auc: 0.637885\n",
            "[1000]\ttraining's auc: 0.680303\tvalid_1's auc: 0.638003\n",
            "Fold Number --> 8\n",
            "[100]\ttraining's auc: 0.644131\tvalid_1's auc: 0.642042\n",
            "[200]\ttraining's auc: 0.650761\tvalid_1's auc: 0.643639\n",
            "[300]\ttraining's auc: 0.655826\tvalid_1's auc: 0.643774\n",
            "[400]\ttraining's auc: 0.660256\tvalid_1's auc: 0.643894\n",
            "[500]\ttraining's auc: 0.66404\tvalid_1's auc: 0.643753\n",
            "[600]\ttraining's auc: 0.667703\tvalid_1's auc: 0.64387\n",
            "[700]\ttraining's auc: 0.671102\tvalid_1's auc: 0.643283\n",
            "[800]\ttraining's auc: 0.67434\tvalid_1's auc: 0.643578\n",
            "[900]\ttraining's auc: 0.677348\tvalid_1's auc: 0.643605\n",
            "[1000]\ttraining's auc: 0.680197\tvalid_1's auc: 0.643806\n",
            "Fold Number --> 9\n",
            "[100]\ttraining's auc: 0.644187\tvalid_1's auc: 0.637636\n",
            "[200]\ttraining's auc: 0.650773\tvalid_1's auc: 0.639716\n",
            "[300]\ttraining's auc: 0.655845\tvalid_1's auc: 0.640834\n",
            "[400]\ttraining's auc: 0.660235\tvalid_1's auc: 0.641807\n",
            "[500]\ttraining's auc: 0.664324\tvalid_1's auc: 0.642229\n",
            "[600]\ttraining's auc: 0.667799\tvalid_1's auc: 0.642191\n",
            "[700]\ttraining's auc: 0.671163\tvalid_1's auc: 0.642154\n",
            "[800]\ttraining's auc: 0.674288\tvalid_1's auc: 0.642198\n",
            "[900]\ttraining's auc: 0.677215\tvalid_1's auc: 0.642123\n",
            "[1000]\ttraining's auc: 0.680207\tvalid_1's auc: 0.642226\n",
            "Fold Number --> 10\n",
            "[100]\ttraining's auc: 0.644295\tvalid_1's auc: 0.64275\n",
            "[200]\ttraining's auc: 0.650858\tvalid_1's auc: 0.644651\n",
            "[300]\ttraining's auc: 0.655883\tvalid_1's auc: 0.646043\n",
            "[400]\ttraining's auc: 0.66\tvalid_1's auc: 0.646052\n",
            "[500]\ttraining's auc: 0.663938\tvalid_1's auc: 0.646786\n",
            "[600]\ttraining's auc: 0.667524\tvalid_1's auc: 0.647015\n",
            "[700]\ttraining's auc: 0.670858\tvalid_1's auc: 0.647166\n",
            "[800]\ttraining's auc: 0.674025\tvalid_1's auc: 0.647291\n",
            "[900]\ttraining's auc: 0.677185\tvalid_1's auc: 0.647457\n",
            "[1000]\ttraining's auc: 0.680084\tvalid_1's auc: 0.647251\n",
            "CV score: 0.64167 \n"
          ],
          "name": "stdout"
        }
      ]
    },
    {
      "metadata": {
        "id": "CJWz6k3qjT1_",
        "colab_type": "code",
        "colab": {}
      },
      "cell_type": "code",
      "source": [
        ""
      ],
      "execution_count": 0,
      "outputs": []
    },
    {
      "metadata": {
        "id": "UfwsRzMEjWTl",
        "colab_type": "code",
        "colab": {}
      },
      "cell_type": "code",
      "source": [
        "sample_submission.loan_default = predictions\n",
        "attempt = 3\n",
        "sample_submission.to_csv(\"Submission_{}.csv\".format(attempt), index=False)"
      ],
      "execution_count": 0,
      "outputs": []
    },
    {
      "metadata": {
        "id": "tIlbHRv4joWW",
        "colab_type": "code",
        "colab": {}
      },
      "cell_type": "code",
      "source": [
        ""
      ],
      "execution_count": 0,
      "outputs": []
    }
  ]
}